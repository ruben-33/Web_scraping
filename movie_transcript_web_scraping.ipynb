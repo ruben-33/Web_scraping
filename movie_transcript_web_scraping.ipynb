{
  "nbformat": 4,
  "nbformat_minor": 0,
  "metadata": {
    "colab": {
      "name": "movie transcript web scraping.ipynb",
      "provenance": [],
      "authorship_tag": "ABX9TyPGs+XAlBSIkdEB7gtcwt+F",
      "include_colab_link": true
    },
    "kernelspec": {
      "name": "python3",
      "display_name": "Python 3"
    },
    "language_info": {
      "name": "python"
    }
  },
  "cells": [
    {
      "cell_type": "markdown",
      "metadata": {
        "id": "view-in-github",
        "colab_type": "text"
      },
      "source": [
        "<a href=\"https://colab.research.google.com/github/ruben-33/Web_scraping/blob/main/movie_transcript_web_scraping.ipynb\" target=\"_parent\"><img src=\"https://colab.research.google.com/assets/colab-badge.svg\" alt=\"Open In Colab\"/></a>"
      ]
    },
    {
      "cell_type": "code",
      "metadata": {
        "id": "JRzner_BHho-"
      },
      "source": [
        "import requests\n",
        "from bs4 import BeautifulSoup\n",
        "import pickle"
      ],
      "execution_count": 1,
      "outputs": []
    },
    {
      "cell_type": "code",
      "metadata": {
        "id": "8SKXsxteHqlc"
      },
      "source": [
        "# Scrapes transcript data from scrapsfromtheloft.com\n",
        "def url_to_transcript(url):\n",
        "    '''Returns transcript data specifically from scrapsfromtheloft.com.'''\n",
        "    page = requests.get(url).text\n",
        "    soup = BeautifulSoup(page, \"lxml\")\n",
        "    text = [p.text for p in soup.find(class_=\"ast-oembed-container\").find_all('p')]\n",
        "    print(url)\n",
        "    return text"
      ],
      "execution_count": 2,
      "outputs": []
    },
    {
      "cell_type": "code",
      "metadata": {
        "id": "0B4t9SbyJmTG"
      },
      "source": [
        "# URLs of transcripts in scope\n",
        "urls = ['https://scrapsfromtheloft.com/comedy/venom-let-there-be-carnage-transcript/',\n",
        "        'https://scrapsfromtheloft.com/movies/fast-furious-9-transcript/',\n",
        "        'https://scrapsfromtheloft.com/movies/riders-of-justice-transcript/',\n",
        "        'https://scrapsfromtheloft.com/movies/black-widow-2021-transcript/',\n",
        "        'https://scrapsfromtheloft.com/movies/no-time-to-die-transcript/',\n",
        "        'https://scrapsfromtheloft.com/movies/zack-snyders-justice-league-transcript/',\n",
        "        'https://scrapsfromtheloft.com/movies/the-irishman-2019-transcript/',\n",
        "        'https://scrapsfromtheloft.com/movies/knives-out-2019-script/']"
      ],
      "execution_count": 3,
      "outputs": []
    },
    {
      "cell_type": "code",
      "metadata": {
        "id": "Cmtvp8JWM0Tr"
      },
      "source": [
        "# movies names\n",
        "movies = ['venom2', 'f9', 'riders of justice', 'black widow', 'no time to die', 'Justice League', 'The irishman',\n",
        "          'knives out']"
      ],
      "execution_count": 4,
      "outputs": []
    },
    {
      "cell_type": "code",
      "metadata": {
        "colab": {
          "base_uri": "https://localhost:8080/"
        },
        "id": "VXDoNrhpNTc7",
        "outputId": "82ae6d9d-f2b1-4ce2-8c24-43f5db2e9f0b"
      },
      "source": [
        "# Actually request transcripts (takes a few minutes to run)\n",
        "transcripts = [url_to_transcript(u) for u in urls]"
      ],
      "execution_count": 5,
      "outputs": [
        {
          "output_type": "stream",
          "name": "stdout",
          "text": [
            "https://scrapsfromtheloft.com/comedy/venom-let-there-be-carnage-transcript/\n",
            "https://scrapsfromtheloft.com/movies/fast-furious-9-transcript/\n",
            "https://scrapsfromtheloft.com/movies/riders-of-justice-transcript/\n",
            "https://scrapsfromtheloft.com/movies/black-widow-2021-transcript/\n",
            "https://scrapsfromtheloft.com/movies/no-time-to-die-transcript/\n",
            "https://scrapsfromtheloft.com/movies/zack-snyders-justice-league-transcript/\n",
            "https://scrapsfromtheloft.com/movies/the-irishman-2019-transcript/\n",
            "https://scrapsfromtheloft.com/movies/knives-out-2019-script/\n"
          ]
        }
      ]
    },
    {
      "cell_type": "code",
      "metadata": {
        "id": "ap78KsgLNecW"
      },
      "source": [
        " # # Pickle files for later use\n",
        " for i, c in enumerate(movies):\n",
        "     with open(\"sample_data/\" + c + \".txt\", \"wb\") as file:\n",
        "         pickle.dump(transcripts[i], file)\n"
      ],
      "execution_count": 8,
      "outputs": []
    },
    {
      "cell_type": "code",
      "metadata": {
        "id": "kFsZmVI_70si"
      },
      "source": [
        "# Load pickled files\n",
        "data = {}\n",
        "for i, c in enumerate(movies):\n",
        "    with open(\"sample_data/\" + c + \".txt\", \"rb\") as file:\n",
        "        data[c] = pickle.load(file)"
      ],
      "execution_count": 9,
      "outputs": []
    },
    {
      "cell_type": "code",
      "metadata": {
        "id": "xeu0H9hL8rzH"
      },
      "source": [
        ""
      ],
      "execution_count": null,
      "outputs": []
    }
  ]
}